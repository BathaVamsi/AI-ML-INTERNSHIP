{
  "nbformat": 4,
  "nbformat_minor": 0,
  "metadata": {
    "colab": {
      "provenance": [],
      "toc_visible": true,
      "authorship_tag": "ABX9TyMRbLRh54Y8zMxlPCQ71clB",
      "include_colab_link": true
    },
    "kernelspec": {
      "name": "python3",
      "display_name": "Python 3"
    },
    "language_info": {
      "name": "python"
    }
  },
  "cells": [
    {
      "cell_type": "markdown",
      "metadata": {
        "id": "view-in-github",
        "colab_type": "text"
      },
      "source": [
        "<a href=\"https://colab.research.google.com/github/BathaVamsi/AI-ML-INTERNSHIP/blob/main/ASSIGNEMENT_1_Untitled0.ipynb\" target=\"_parent\"><img src=\"https://colab.research.google.com/assets/colab-badge.svg\" alt=\"Open In Colab\"/></a>"
      ]
    },
    {
      "cell_type": "code",
      "execution_count": null,
      "metadata": {
        "colab": {
          "base_uri": "https://localhost:8080/"
        },
        "id": "gNTwcgreXJjQ",
        "outputId": "e02bed59-4a9b-4e18-8b59-31f47f212761"
      },
      "outputs": [
        {
          "output_type": "execute_result",
          "data": {
            "text/plain": [
              "[1, 2, 3, 4, 5, 6, 7, 8, 9, 6]"
            ]
          },
          "metadata": {},
          "execution_count": 1
        }
      ],
      "source": [
        "#Task 1--\n",
        "a=[1,2,3,4,5,6]\n",
        "b=[7,8,9,6]\n",
        "a+b"
      ]
    },
    {
      "cell_type": "code",
      "source": [],
      "metadata": {
        "id": "GQTY72uDbnrP"
      },
      "execution_count": null,
      "outputs": []
    },
    {
      "cell_type": "code",
      "source": [
        "#task 2--\n",
        "\n",
        "num = int(input(\"Enter a number: \"))\n",
        "if (num % 2) == 0:\n",
        "    print(\"{0} is Even\".format(num))\n",
        "else:\n",
        "    print(\"{0} is Odd\".format(num))"
      ],
      "metadata": {
        "colab": {
          "base_uri": "https://localhost:8080/"
        },
        "id": "xBVlhfJbceiv",
        "outputId": "fe064c75-46c1-4909-e132-5927fc730430"
      },
      "execution_count": null,
      "outputs": [
        {
          "output_type": "stream",
          "name": "stdout",
          "text": [
            "Enter a number: 12\n",
            "12 is Even\n"
          ]
        }
      ]
    },
    {
      "cell_type": "code",
      "source": [
        "#task 3--\n",
        "d1 = {'S.no':[1,2,3],'name':['vamsi','balaji','chiranjeevi'],'rollno':[12,23,31]}\n",
        "d1"
      ],
      "metadata": {
        "colab": {
          "base_uri": "https://localhost:8080/"
        },
        "id": "8358vvlVcxpx",
        "outputId": "7fca6e46-1dc4-450d-9953-c2e39cfa5509"
      },
      "execution_count": null,
      "outputs": [
        {
          "output_type": "execute_result",
          "data": {
            "text/plain": [
              "{'S.no': [1, 2, 3],\n",
              " 'name': ['vamsi', 'balaji', 'chiranjeevi'],\n",
              " 'rollno': [12, 23, 31]}"
            ]
          },
          "metadata": {},
          "execution_count": 11
        }
      ]
    },
    {
      "cell_type": "code",
      "source": [
        "#Task 4--\n",
        "def find_odd_numbers (start, end):\n",
        "  for num in range(start, end + 1):\n",
        "     if num % 2 != 0:\n",
        "           print(num)\n",
        "\n",
        "find_odd_numbers (1, 10)"
      ],
      "metadata": {
        "colab": {
          "base_uri": "https://localhost:8080/"
        },
        "id": "IVP_YfAVc814",
        "outputId": "f900321b-fc84-4976-a35c-2e77455b89d0"
      },
      "execution_count": null,
      "outputs": [
        {
          "output_type": "stream",
          "name": "stdout",
          "text": [
            "1\n",
            "3\n",
            "5\n",
            "7\n",
            "9\n"
          ]
        }
      ]
    },
    {
      "cell_type": "code",
      "source": [
        "# TASK 5 :-\n",
        "\n",
        "def sum_of_num(num):\n",
        "    total=0\n",
        "    for i in num:\n",
        "        total = total+i\n",
        "    return total\n",
        "\n",
        "num = [10, 9, 8, 7, 6]\n",
        "print(num)\n",
        "print(\"sum of numbers: \",sum_of_num(num))"
      ],
      "metadata": {
        "colab": {
          "base_uri": "https://localhost:8080/"
        },
        "id": "Pxbn_85kekTC",
        "outputId": "44318275-4923-49e9-98cd-493daf139175"
      },
      "execution_count": null,
      "outputs": [
        {
          "output_type": "stream",
          "name": "stdout",
          "text": [
            "[10, 9, 8, 7, 6]\n",
            "sum of numbers:  40\n"
          ]
        }
      ]
    }
  ]
}